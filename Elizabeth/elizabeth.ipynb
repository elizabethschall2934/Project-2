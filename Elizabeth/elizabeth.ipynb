{
 "cells": [
  {
   "cell_type": "code",
   "execution_count": null,
   "metadata": {},
   "outputs": [],
   "source": [
    "# Dependencies\n",
    "import matplotlib.pyplot as plt\n",
    "import pandas as pd\n",
    "import numpy as np\n",
    "from pprint import pprint\n",
    "import requests\n",
    "import time\n",
    "import csv\n",
    "import os\n",
    "import json\n",
    "from scipy.stats import linregress\n",
    "from datetime import date\n",
    "import php\n",
    "\n",
    "# Import API key--requires a token\n",
    "# https://api.petfinder.com/v2/\n",
    "from api_keys import rescue_key"
   ]
  },
  {
   "cell_type": "code",
   "execution_count": null,
   "metadata": {},
   "outputs": [],
   "source": [
    "#Import the JSON file retrieved from the API call to https://api.petfinder.com/v2/ via oAuth token\n",
    "with open('C:/Users/eliza/Project-2/animals.json') as f:\n",
    "  data = json.load(f)\n",
    "\n",
    "# Output\n",
    "pprint(data)"
   ]
  },
  {
   "cell_type": "code",
   "execution_count": null,
   "metadata": {},
   "outputs": [],
   "source": [
    "base_url = \"https://api.rescuegroups.org/http/v2.json\"\n",
    "#query_url = f\"{base_url}?q={cityof}&units=imperial&appid={rescue_key}\"\n"
   ]
  },
  {
   "cell_type": "code",
   "execution_count": null,
   "metadata": {},
   "outputs": [],
   "source": [
    "$data = array(\n",
    "  \"apikey\" => \"rescue_key\",\n",
    "  \"objectType\" => \"animals\",\n",
    "  \"objectAction\" => \"publicSearch\",\n",
    "  \"search\" => array (\n",
    "    \"resultStart\" => 0,\n",
    "    \"resultLimit\" => 20,\n",
    "    \"resultSort\" => \"animalID\",\n",
    "    \"resultOrder\" => \"asc\",\n",
    "    \"calcFoundRows\" => \"Yes\",    \"filters\" => array(\n",
    "      array(\n",
    "        \"fieldName\" => \"animalSpecies\",\n",
    "        \"operation\" => \"equals\",\n",
    "        \"criteria\" => \"dog\",\n",
    "      ),\n",
    "      array(\n",
    "        \"fieldName\" => \"animalGeneralSizePotential\",\n",
    "        \"operation\" => \"equals\",\n",
    "        \"criteria\" => \"small\",\n",
    "      ),\n",
    "    ),\n",
    "    \"fields\" => array(\"animalID\",\"animalOrgID\",\"animalName\",\"animalBreed\")\n",
    "  ),\n",
    ");"
   ]
  },
  {
   "cell_type": "code",
   "execution_count": null,
   "metadata": {},
   "outputs": [],
   "source": [
    "$jsonData = json_encode($data);"
   ]
  },
  {
   "cell_type": "code",
   "execution_count": null,
   "metadata": {},
   "outputs": [],
   "source": [
    "#response = requests.get(query_url).json()\n",
    "pprint($data)"
   ]
  },
  {
   "cell_type": "code",
   "execution_count": null,
   "metadata": {},
   "outputs": [],
   "source": []
  }
 ],
 "metadata": {
  "kernelspec": {
   "display_name": "Python 3",
   "language": "python",
   "name": "python3"
  },
  "language_info": {
   "codemirror_mode": {
    "name": "ipython",
    "version": 3
   },
   "file_extension": ".py",
   "mimetype": "text/x-python",
   "name": "python",
   "nbconvert_exporter": "python",
   "pygments_lexer": "ipython3",
   "version": "3.8.3"
  }
 },
 "nbformat": 4,
 "nbformat_minor": 4
}
