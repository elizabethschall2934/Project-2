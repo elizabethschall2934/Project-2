{
 "cells": [
  {
   "cell_type": "code",
   "execution_count": 82,
   "metadata": {},
   "outputs": [],
   "source": [
    "key = \"tI6XMGQoGKaxRK7CFXSij99gB3FwfuBT674ZLt2GzzDkG4eq8Q\"\n",
    "secret = \"iEVGwWWl6z0gextpt98ktTsg6hWEUXoe8LieIsmi\""
   ]
  },
  {
   "cell_type": "code",
   "execution_count": 2,
   "metadata": {},
   "outputs": [],
   "source": [
    "import petpy"
   ]
  },
  {
   "cell_type": "code",
   "execution_count": 83,
   "metadata": {},
   "outputs": [],
   "source": [
    "pf = petpy.Petfinder(key=key, secret=secret)"
   ]
  },
  {
   "cell_type": "code",
   "execution_count": 8,
   "metadata": {},
   "outputs": [],
   "source": [
    "animal_types = pf.animal_types()"
   ]
  },
  {
   "cell_type": "code",
   "execution_count": 10,
   "metadata": {},
   "outputs": [
    {
     "name": "stdout",
     "output_type": "stream",
     "text": [
      "dog\n",
      "['Affenpinscher', 'Afghan Hound', 'Airedale Terrier', 'Akbash', 'Akita', 'Alaskan Malamute', 'American Bulldog', 'American Bully', 'American Eskimo Dog', 'American Foxhound', 'American Hairless Terrier', 'American Staffordshire Terrier', 'American Water Spaniel', 'Anatolian Shepherd', 'Appenzell Mountain Dog', 'Aussiedoodle', 'Australian Cattle Dog / Blue Heeler', 'Australian Kelpie', 'Australian Shepherd', 'Australian Terrier', 'Basenji', 'Basset Hound', 'Beagle', 'Bearded Collie', 'Beauceron', 'Bedlington Terrier', 'Belgian Shepherd / Laekenois', 'Belgian Shepherd / Malinois', 'Belgian Shepherd / Sheepdog', 'Belgian Shepherd / Tervuren', 'Bernedoodle', 'Bernese Mountain Dog', 'Bichon Frise', 'Black and Tan Coonhound', 'Black Labrador Retriever', 'Black Mouth Cur', 'Black Russian Terrier', 'Bloodhound', 'Blue Lacy', 'Bluetick Coonhound', 'Boerboel', 'Bolognese', 'Border Collie', 'Border Terrier', 'Borzoi', 'Boston Terrier', 'Bouvier des Flandres', 'Boxer', 'Boykin Spaniel', 'Briard', 'Brittany Spaniel', 'Brussels Griffon', 'Bull Terrier', 'Bullmastiff', 'Cairn Terrier', 'Canaan Dog', 'Cane Corso', 'Cardigan Welsh Corgi', 'Carolina Dog', 'Catahoula Leopard Dog', 'Cattle Dog', 'Caucasian Sheepdog / Caucasian Ovtcharka', 'Cavachon', 'Cavalier King Charles Spaniel', 'Cavapoo', 'Chesapeake Bay Retriever', 'Chihuahua', 'Chinese Crested Dog', 'Chinese Foo Dog', 'Chinook', 'Chiweenie', 'Chocolate Labrador Retriever', 'Chow Chow', \"Cirneco dell'Etna\", 'Clumber Spaniel', 'Cockapoo', 'Cocker Spaniel', 'Collie', 'Coonhound', 'Corgi', 'Coton de Tulear', 'Curly-Coated Retriever', 'Dachshund', 'Dalmatian', 'Dandie Dinmont Terrier', 'Doberman Pinscher', 'Dogo Argentino', 'Dogue de Bordeaux', 'Dutch Shepherd', 'English Bulldog', 'English Cocker Spaniel', 'English Coonhound', 'English Foxhound', 'English Pointer', 'English Setter', 'English Shepherd', 'English Springer Spaniel', 'English Toy Spaniel', 'Entlebucher', 'Eskimo Dog', 'Feist', 'Field Spaniel', 'Fila Brasileiro', 'Finnish Lapphund', 'Finnish Spitz', 'Flat-Coated Retriever', 'Fox Terrier', 'Foxhound', 'French Bulldog', 'Galgo Spanish Greyhound', 'German Pinscher', 'German Shepherd Dog', 'German Shorthaired Pointer', 'German Spitz', 'German Wirehaired Pointer', 'Giant Schnauzer', 'Glen of Imaal Terrier', 'Golden Retriever', 'Goldendoodle', 'Gordon Setter', 'Great Dane', 'Great Pyrenees', 'Greater Swiss Mountain Dog', 'Greyhound', 'Hamiltonstovare', 'Harrier', 'Havanese', 'Hound', 'Hovawart', 'Husky', 'Ibizan Hound', 'Icelandic Sheepdog', 'Illyrian Sheepdog', 'Irish Setter', 'Irish Terrier', 'Irish Water Spaniel', 'Irish Wolfhound', 'Italian Greyhound', 'Jack Russell Terrier', 'Japanese Chin', 'Jindo', 'Kai Dog', 'Karelian Bear Dog', 'Keeshond', 'Kerry Blue Terrier', 'Kishu', 'Klee Kai', 'Komondor', 'Kuvasz', 'Kyi Leo', 'Labradoodle', 'Labrador Retriever', 'Lakeland Terrier', 'Lancashire Heeler', 'Leonberger', 'Lhasa Apso', 'Lowchen', 'Lurcher', 'Maltese', 'Maltipoo', 'Manchester Terrier', 'Maremma Sheepdog', 'Mastiff', 'McNab', 'Miniature Bull Terrier', 'Miniature Dachshund', 'Miniature Pinscher', 'Miniature Poodle', 'Miniature Schnauzer', 'Mixed Breed', 'Morkie', 'Mountain Cur', 'Mountain Dog', 'Munsterlander', 'Neapolitan Mastiff', 'New Guinea Singing Dog', 'Newfoundland Dog', 'Norfolk Terrier', 'Norwegian Buhund', 'Norwegian Elkhound', 'Norwegian Lundehund', 'Norwich Terrier', 'Nova Scotia Duck Tolling Retriever', 'Old English Sheepdog', 'Otterhound', 'Papillon', 'Parson Russell Terrier', 'Patterdale Terrier / Fell Terrier', 'Pekingese', 'Pembroke Welsh Corgi', 'Peruvian Inca Orchid', 'Petit Basset Griffon Vendeen', 'Pharaoh Hound', 'Pit Bull Terrier', 'Plott Hound', 'Pointer', 'Polish Lowland Sheepdog', 'Pomeranian', 'Pomsky', 'Poodle', 'Portuguese Podengo', 'Portuguese Water Dog', 'Presa Canario', 'Pug', 'Puggle', 'Puli', 'Pumi', 'Pyrenean Shepherd', 'Rat Terrier', 'Redbone Coonhound', 'Retriever', 'Rhodesian Ridgeback', 'Rottweiler', 'Rough Collie', 'Saint Bernard', 'Saluki', 'Samoyed', 'Sarplaninac', 'Schipperke', 'Schnauzer', 'Schnoodle', 'Scottish Deerhound', 'Scottish Terrier', 'Sealyham Terrier', 'Setter', 'Shar-Pei', 'Sheep Dog', 'Sheepadoodle', 'Shepherd', 'Shetland Sheepdog / Sheltie', 'Shiba Inu', 'Shih poo', 'Shih Tzu', 'Shollie', 'Siberian Husky', 'Silky Terrier', 'Skye Terrier', 'Sloughi', 'Smooth Collie', 'Smooth Fox Terrier', 'South Russian Ovtcharka', 'Spaniel', 'Spanish Water Dog', 'Spinone Italiano', 'Spitz', 'Staffordshire Bull Terrier', 'Standard Poodle', 'Standard Schnauzer', 'Sussex Spaniel', 'Swedish Vallhund', 'Tennessee Treeing Brindle', 'Terrier', 'Thai Ridgeback', 'Tibetan Mastiff', 'Tibetan Spaniel', 'Tibetan Terrier', 'Tosa Inu', 'Toy Fox Terrier', 'Toy Manchester Terrier', 'Treeing Walker Coonhound', 'Vizsla', 'Weimaraner', 'Welsh Springer Spaniel', 'Welsh Terrier', 'West Highland White Terrier / Westie', 'Wheaten Terrier', 'Whippet', 'White German Shepherd', 'Wire Fox Terrier', 'Wirehaired Dachshund', 'Wirehaired Pointing Griffon', 'Wirehaired Terrier', 'Xoloitzcuintli / Mexican Hairless', 'Yellow Labrador Retriever', 'Yorkshire Terrier']\n",
      "cat\n",
      "['Abyssinian', 'American Bobtail', 'American Curl', 'American Shorthair', 'American Wirehair', 'Applehead Siamese', 'Balinese', 'Bengal', 'Birman', 'Bombay', 'British Shorthair', 'Burmese', 'Burmilla', 'Calico', 'Canadian Hairless', 'Chartreux', 'Chausie', 'Chinchilla', 'Cornish Rex', 'Cymric', 'Devon Rex', 'Dilute Calico', 'Dilute Tortoiseshell', 'Domestic Long Hair', 'Domestic Medium Hair', 'Domestic Short Hair', 'Egyptian Mau', 'Exotic Shorthair', 'Extra-Toes Cat / Hemingway Polydactyl', 'Havana', 'Himalayan', 'Japanese Bobtail', 'Javanese', 'Korat', 'LaPerm', 'Maine Coon', 'Manx', 'Munchkin', 'Nebelung', 'Norwegian Forest Cat', 'Ocicat', 'Oriental Long Hair', 'Oriental Short Hair', 'Oriental Tabby', 'Persian', 'Pixiebob', 'Ragamuffin', 'Ragdoll', 'Russian Blue', 'Scottish Fold', 'Selkirk Rex', 'Siamese', 'Siberian', 'Silver', 'Singapura', 'Snowshoe', 'Somali', 'Sphynx / Hairless Cat', 'Tabby', 'Tiger', 'Tonkinese', 'Torbie', 'Tortoiseshell', 'Toyger', 'Turkish Angora', 'Turkish Van', 'Tuxedo', 'York Chocolate']\n",
      "rabbit\n",
      "['American', 'American Fuzzy Lop', 'American Sable', 'Angora Rabbit', 'Belgian Hare', 'Beveren', 'Britannia Petite', 'Bunny Rabbit', 'Californian', \"Champagne D'Argent\", 'Checkered Giant', 'Chinchilla', 'Cinnamon', \"Creme D'Argent\", 'Dutch', 'Dwarf', 'Dwarf Eared', 'English Lop', 'English Spot', 'Flemish Giant', 'Florida White', 'French Lop', 'Harlequin', 'Havana', 'Himalayan', 'Holland Lop', 'Hotot', 'Jersey Wooly', 'Lilac', 'Lionhead', 'Lop Eared', 'Mini Lop', 'Mini Rex', 'Netherland Dwarf', 'New Zealand', 'Palomino', 'Polish', 'Rex', 'Rhinelander', 'Satin', 'Silver', 'Silver Fox', 'Silver Marten', 'Tan']\n",
      "small-furry\n",
      "['Abyssinian', 'Chinchilla', 'Degu', 'Dwarf Hamster', 'Ferret', 'Gerbil', 'Guinea Pig', 'Hamster', 'Hedgehog', 'Mouse', 'Peruvian', 'Prairie Dog', 'Rat', 'Rex', 'Short-Haired', 'Silkie / Sheltie', 'Skunk', 'Sugar Glider', 'Teddy']\n",
      "horse\n",
      "['Appaloosa', 'Arabian', 'Belgian', 'Clydesdale', 'Connemara', 'Curly Horse', 'Donkey', 'Draft', 'Friesian', 'Gaited', 'Grade', 'Haflinger', 'Icelandic Horse', 'Lipizzan', 'Miniature Horse', 'Missouri Foxtrotter', 'Morgan', 'Mule', 'Mustang', 'Paint / Pinto', 'Palomino', 'Paso Fino', 'Percheron', 'Peruvian Paso', 'Pony', 'Pony of the Americas', 'Quarterhorse', 'Rocky Mountain Horse', 'Saddlebred', 'Shetland Pony', 'Standardbred', 'Tennessee Walker', 'Thoroughbred', 'Warmblood']\n",
      "bird\n",
      "['African Grey', 'Amazon', 'Brotogeris', 'Budgie / Budgerigar', 'Button-Quail', 'Caique', 'Canary', 'Chicken', 'Cockatiel', 'Cockatoo', 'Conure', 'Dove', 'Duck', 'Eclectus', 'Emu', 'Finch', 'Goose', 'Guinea Fowl', 'Kakariki', 'Lory / Lorikeet', 'Lovebird', 'Macaw', 'Ostrich', 'Parakeet (Other)', 'Parrot (Other)', 'Parrotlet', 'Peacock / Peafowl', 'Pheasant', 'Pigeon', 'Pionus', 'Poicephalus / Senegal', 'Quail', 'Quaker Parakeet', 'Rhea', 'Ringneck / Psittacula', 'Rosella', 'Swan', 'Toucan', 'Turkey']\n",
      "scales-fins-other\n",
      "['Asian Box', 'Ball Python', 'Bearded Dragon', 'Boa', 'Boa Constrictor', 'Box', 'Bull', 'Bullfrog', 'Burmese Python', 'Chameleon', 'Corn / Rat', 'Eastern Box', 'Fire Salamander', 'Fire-Bellied', 'Fire-Bellied Newt', 'Florida Box', 'Freshwater Fish', 'Frog', 'Garter / Ribbon', 'Gecko', 'Goldfish', 'Hermit Crab', 'Horned Frog', 'Iguana', 'King / Milk', 'Leopard', 'Leopard Frog', 'Lizard', 'Mississippi Map Turtle', 'Monitor', 'Mud', 'Musk', 'Oregon Newt', 'Ornamental Box', 'Other', 'Paddle Tailed Newt', 'Painted', 'Python', 'Red Foot', 'Red-Eared Slider', 'Russian', 'Saltwater Fish', 'Scorpion', 'Snake', 'Snapping', 'Soft Shell', 'Southern', 'Sulcata', 'Tarantula', 'Three-Toed Box', 'Tiger Salamander', 'Toad', 'Tortoise', 'Tree Frog', 'Turtle', 'Uromastyx', 'Water Dragon', 'Yellow-Bellied Slider']\n",
      "barnyard\n",
      "['Alpaca', 'Alpine', 'Angora', 'Angus', 'Barbados', 'Boer', 'Cow', 'Duroc', 'Goat', 'Hampshire', 'Holstein', 'Jersey', 'LaMancha', 'Landrace', 'Llama', 'Merino', 'Mouflon', 'Myotonic / Fainting', 'Nigerian Dwarf', 'Nubian', 'Oberhasli', 'Pig', 'Pot Bellied', 'Pygmy', 'Saanen', 'Sheep', 'Shetland', 'Toggenburg', 'Vietnamese Pot Bellied', 'Yorkshire']\n"
     ]
    }
   ],
   "source": [
    "animal_breeds = pf.breeds()\n",
    "\n",
    "for breed in animal_breeds['breeds']:\n",
    "    print(breed)\n",
    "    print(animal_breeds['breeds'][breed])"
   ]
  },
  {
   "cell_type": "code",
   "execution_count": 4,
   "metadata": {},
   "outputs": [],
   "source": [
    "CA_shelter = pf.organizations(pages=None, state='CA')"
   ]
  },
  {
   "cell_type": "code",
   "execution_count": null,
   "metadata": {},
   "outputs": [],
   "source": []
  },
  {
   "cell_type": "code",
   "execution_count": 5,
   "metadata": {},
   "outputs": [],
   "source": [
    "import json\n",
    "\n",
    "with open('ca_shelter_0112.json', 'w') as json_file:\n",
    "    json.dump(CA_shelter, json_file)"
   ]
  },
  {
   "cell_type": "code",
   "execution_count": 6,
   "metadata": {},
   "outputs": [],
   "source": [
    "with open('ca_shelter_0112.json') as f:\n",
    "    ca_shelter = json.load(f)"
   ]
  },
  {
   "cell_type": "code",
   "execution_count": 33,
   "metadata": {},
   "outputs": [],
   "source": [
    "#Fetch all animals by organization id\n",
    "id_list = []\n",
    "for shelter in ca_shelter['organizations']:\n",
    "    shelter_id = shelter['id']\n",
    "    if shelter_id not in id_list:\n",
    "        id_list.append(shelter_id)"
   ]
  },
  {
   "cell_type": "code",
   "execution_count": 55,
   "metadata": {},
   "outputs": [
    {
     "data": {
      "text/plain": [
       "['CA2464', 'CA458']"
      ]
     },
     "execution_count": 55,
     "metadata": {},
     "output_type": "execute_result"
    }
   ],
   "source": [
    "id_test = id_list[:2]\n",
    "id_test"
   ]
  },
  {
   "cell_type": "code",
   "execution_count": 60,
   "metadata": {},
   "outputs": [
    {
     "ename": "TypeError",
     "evalue": "animals() got an unexpected keyword argument 'organization'",
     "output_type": "error",
     "traceback": [
      "\u001b[1;31m---------------------------------------------------------------------------\u001b[0m",
      "\u001b[1;31mTypeError\u001b[0m                                 Traceback (most recent call last)",
      "\u001b[1;32m<ipython-input-60-6e5baaa88bce>\u001b[0m in \u001b[0;36m<module>\u001b[1;34m\u001b[0m\n\u001b[1;32m----> 1\u001b[1;33m \u001b[0mca_animals\u001b[0m \u001b[1;33m=\u001b[0m \u001b[0mpf\u001b[0m\u001b[1;33m.\u001b[0m\u001b[0manimals\u001b[0m\u001b[1;33m(\u001b[0m\u001b[0mpages\u001b[0m\u001b[1;33m=\u001b[0m\u001b[1;32mNone\u001b[0m\u001b[1;33m,\u001b[0m \u001b[0morganization\u001b[0m\u001b[1;33m=\u001b[0m\u001b[1;33m[\u001b[0m\u001b[1;34m'CA458'\u001b[0m\u001b[1;33m,\u001b[0m\u001b[1;34m'CA2464'\u001b[0m\u001b[1;33m]\u001b[0m\u001b[1;33m)\u001b[0m\u001b[1;33m\u001b[0m\u001b[1;33m\u001b[0m\u001b[0m\n\u001b[0m\u001b[0;32m      2\u001b[0m \u001b[1;31m##error by quering id_List\u001b[0m\u001b[1;33m\u001b[0m\u001b[1;33m\u001b[0m\u001b[1;33m\u001b[0m\u001b[0m\n",
      "\u001b[1;31mTypeError\u001b[0m: animals() got an unexpected keyword argument 'organization'"
     ]
    }
   ],
   "source": [
    "ca_animals = pf.animals(pages=None, organization=['CA458','CA2464'])\n",
    "##error by quering id_List"
   ]
  },
  {
   "cell_type": "code",
   "execution_count": 59,
   "metadata": {},
   "outputs": [
    {
     "name": "stdout",
     "output_type": "stream",
     "text": [
      "CA2464\n"
     ]
    }
   ],
   "source": [
    "for i in ca_animals['animals']:\n",
    "    print(i['organization_id'])"
   ]
  },
  {
   "cell_type": "code",
   "execution_count": 7,
   "metadata": {},
   "outputs": [],
   "source": [
    "#Fetch by city,CA\n",
    "address_list = []\n",
    "for shelter in ca_shelter['organizations']:\n",
    "    shelter_address = shelter['address']['city'].strip().lower().title() + ', CA'\n",
    "    if shelter_address not in address_list:\n",
    "        address_list.append(shelter_address)"
   ]
  },
  {
   "cell_type": "code",
   "execution_count": 8,
   "metadata": {},
   "outputs": [
    {
     "data": {
      "text/plain": [
       "419"
      ]
     },
     "execution_count": 8,
     "metadata": {},
     "output_type": "execute_result"
    }
   ],
   "source": [
    "len(address_list)\n",
    "#only 443 cities in CA, so I can use for loop to run the API calls"
   ]
  },
  {
   "cell_type": "code",
   "execution_count": null,
   "metadata": {},
   "outputs": [],
   "source": [
    "animal_list = []\n",
    "animal_id = []\n",
    "for a in address_list:\n",
    "    try:\n",
    "        city_animals = pf.animals(location = a, pages=None)\n",
    "    except petpy.exceptions.PetfinderInvalidParameters:\n",
    "        print(f\"Error querrying {a}\")\n",
    "        continue\n",
    "    except Exception as x:\n",
    "        print(x)\n",
    "    else:\n",
    "        for animal in city_animals['animals']:\n",
    "            if animal['id'] not in animal_id:\n",
    "                animal_list.append(animal)\n",
    "                animal_id.append(animal['id'])\n",
    "\n",
    "## With location specified, there is a default distance to be 50 miles for the search.\n",
    "## So there are a lot lot lot of duplicate results while sampling different cities becuase\n",
    "## of the range. A lot of cities are within 50 miles range. And I cannot set a definitive\n",
    "## limit for that due to uneven distribution of city locations."
   ]
  },
  {
   "cell_type": "code",
   "execution_count": null,
   "metadata": {},
   "outputs": [],
   "source": []
  },
  {
   "cell_type": "code",
   "execution_count": null,
   "metadata": {},
   "outputs": [],
   "source": [
    "## Instead, the dumpest way is to specify a lat-long location and set the distance\n",
    "## to maximum 500 miles that inclues the whole california. Of cause then there will be \n",
    "## results outside CA. We'll filter then out later. "
   ]
  },
  {
   "cell_type": "code",
   "execution_count": 84,
   "metadata": {},
   "outputs": [],
   "source": [
    "animal_list = []\n",
    "\n",
    "try:\n",
    "    animals_all = pf.animals(location = '35.466895,-122.115810', distance=500, pages=None)\n",
    "except Exception as x:\n",
    "    print(x)\n",
    "else:\n",
    "    for animal in animals_all['animals']:\n",
    "        if animal['contact']['address']['state'] == \"CA\" and (animal not in animal_list):\n",
    "            animal_list.append(animal)"
   ]
  },
  {
   "cell_type": "code",
   "execution_count": 85,
   "metadata": {},
   "outputs": [],
   "source": [
    "ca_animals = {'animals': animal_list}"
   ]
  },
  {
   "cell_type": "code",
   "execution_count": 86,
   "metadata": {},
   "outputs": [
    {
     "data": {
      "text/plain": [
       "12592"
      ]
     },
     "execution_count": 86,
     "metadata": {},
     "output_type": "execute_result"
    }
   ],
   "source": [
    "len(ca_animals['animals'])"
   ]
  },
  {
   "cell_type": "code",
   "execution_count": 87,
   "metadata": {},
   "outputs": [],
   "source": [
    "with open('ca_data_0122.json', 'w') as json_file:\n",
    "    json.dump(ca_animals, json_file)"
   ]
  },
  {
   "cell_type": "code",
   "execution_count": 88,
   "metadata": {},
   "outputs": [],
   "source": [
    "## check unique ID \n",
    "animal_check = []\n",
    "duplicate_id = []\n",
    "for animal in ca_animals['animals']:\n",
    "    if animal not in animal_check:\n",
    "        animal_check.append(animal)\n",
    "        if animal['id'] not in duplicate_id:\n",
    "            duplicate_id.append(animal['id'])\n",
    "        else:\n",
    "            print(f\"There is a duplicate for {animal['id']}, but they are different\")\n",
    "    else:\n",
    "        print(f\"There is a duplicate for {animal['id']}, but they are the same\")\n",
    "\n",
    "##OKAY looks like the duplicates were generated through API calling. Duplicates are all the\n",
    "##same, so we can confiently remove duplicate."
   ]
  },
  {
   "cell_type": "code",
   "execution_count": 79,
   "metadata": {},
   "outputs": [
    {
     "ename": "TypeError",
     "evalue": "unhashable type: 'dict'",
     "output_type": "error",
     "traceback": [
      "\u001b[1;31m---------------------------------------------------------------------------\u001b[0m",
      "\u001b[1;31mTypeError\u001b[0m                                 Traceback (most recent call last)",
      "\u001b[1;32m<ipython-input-79-f8539897a08e>\u001b[0m in \u001b[0;36m<module>\u001b[1;34m\u001b[0m\n\u001b[1;32m----> 1\u001b[1;33m \u001b[0mremove_duplicate\u001b[0m \u001b[1;33m=\u001b[0m \u001b[0mset\u001b[0m\u001b[1;33m(\u001b[0m\u001b[0mca_animals\u001b[0m\u001b[1;33m[\u001b[0m\u001b[1;34m'animals'\u001b[0m\u001b[1;33m]\u001b[0m\u001b[1;33m)\u001b[0m\u001b[1;33m\u001b[0m\u001b[1;33m\u001b[0m\u001b[0m\n\u001b[0m",
      "\u001b[1;31mTypeError\u001b[0m: unhashable type: 'dict'"
     ]
    }
   ],
   "source": []
  },
  {
   "cell_type": "code",
   "execution_count": 69,
   "metadata": {},
   "outputs": [
    {
     "data": {
      "text/plain": [
       "{'animals': {'id': 50173427,\n",
       "  'organization_id': 'CA2043',\n",
       "  'url': 'https://www.petfinder.com/cat/jessie-50173427/ca/mission-viejo/compassionate-animal-rescue-for-medical-aid-ca2043/?referrer_id=edf7097c-862d-4871-a9ad-9278bcecc340',\n",
       "  'type': 'Cat',\n",
       "  'species': 'Cat',\n",
       "  'breeds': {'primary': 'Domestic Short Hair',\n",
       "   'secondary': None,\n",
       "   'mixed': False,\n",
       "   'unknown': False},\n",
       "  'colors': {'primary': 'Black & White / Tuxedo',\n",
       "   'secondary': None,\n",
       "   'tertiary': None},\n",
       "  'age': 'Baby',\n",
       "  'gender': 'Female',\n",
       "  'size': 'Small',\n",
       "  'coat': None,\n",
       "  'attributes': {'spayed_neutered': True,\n",
       "   'house_trained': True,\n",
       "   'declawed': False,\n",
       "   'special_needs': False,\n",
       "   'shots_current': True},\n",
       "  'environment': {'children': None, 'dogs': None, 'cats': True},\n",
       "  'tags': [],\n",
       "  'name': 'Jessie',\n",
       "  'description': 'I am currently available for adoption at the Lake Forest Petsmart. If you&amp;#39;re interested in adopting me, fill out an...',\n",
       "  'organization_animal_id': '16392144',\n",
       "  'photos': [{'small': 'https://dl5zpyw5k3jeb.cloudfront.net/photos/pets/50173427/1/?bust=1611226224&width=100',\n",
       "    'medium': 'https://dl5zpyw5k3jeb.cloudfront.net/photos/pets/50173427/1/?bust=1611226224&width=300',\n",
       "    'large': 'https://dl5zpyw5k3jeb.cloudfront.net/photos/pets/50173427/1/?bust=1611226224&width=600',\n",
       "    'full': 'https://dl5zpyw5k3jeb.cloudfront.net/photos/pets/50173427/1/?bust=1611226224'},\n",
       "   {'small': 'https://dl5zpyw5k3jeb.cloudfront.net/photos/pets/50173427/3/?bust=1611226224&width=100',\n",
       "    'medium': 'https://dl5zpyw5k3jeb.cloudfront.net/photos/pets/50173427/3/?bust=1611226224&width=300',\n",
       "    'large': 'https://dl5zpyw5k3jeb.cloudfront.net/photos/pets/50173427/3/?bust=1611226224&width=600',\n",
       "    'full': 'https://dl5zpyw5k3jeb.cloudfront.net/photos/pets/50173427/3/?bust=1611226224'},\n",
       "   {'small': 'https://dl5zpyw5k3jeb.cloudfront.net/photos/pets/50173427/2/?bust=1611226221&width=100',\n",
       "    'medium': 'https://dl5zpyw5k3jeb.cloudfront.net/photos/pets/50173427/2/?bust=1611226221&width=300',\n",
       "    'large': 'https://dl5zpyw5k3jeb.cloudfront.net/photos/pets/50173427/2/?bust=1611226221&width=600',\n",
       "    'full': 'https://dl5zpyw5k3jeb.cloudfront.net/photos/pets/50173427/2/?bust=1611226221'}],\n",
       "  'primary_photo_cropped': {'small': 'https://dl5zpyw5k3jeb.cloudfront.net/photos/pets/50173427/1/?bust=1611226224&width=300',\n",
       "   'medium': 'https://dl5zpyw5k3jeb.cloudfront.net/photos/pets/50173427/1/?bust=1611226224&width=450',\n",
       "   'large': 'https://dl5zpyw5k3jeb.cloudfront.net/photos/pets/50173427/1/?bust=1611226224&width=600',\n",
       "   'full': 'https://dl5zpyw5k3jeb.cloudfront.net/photos/pets/50173427/1/?bust=1611226224'},\n",
       "  'videos': [],\n",
       "  'status': 'adoptable',\n",
       "  'status_changed_at': '2020-12-31T19:10:50+0000',\n",
       "  'published_at': '2020-12-31T19:10:50+0000',\n",
       "  'distance': None,\n",
       "  'contact': {'email': 'carmaoc@cox.net',\n",
       "   'phone': '(949) 231-9184',\n",
       "   'address': {'address1': None,\n",
       "    'address2': None,\n",
       "    'city': 'Mission Viejo',\n",
       "    'state': 'CA',\n",
       "    'postcode': '92691',\n",
       "    'country': 'US'}},\n",
       "  '_links': {'self': {'href': '/v2/animals/50173427'},\n",
       "   'type': {'href': '/v2/types/cat'},\n",
       "   'organization': {'href': '/v2/organizations/ca2043'}}}}"
      ]
     },
     "execution_count": 69,
     "metadata": {},
     "output_type": "execute_result"
    }
   ],
   "source": [
    "duplicates"
   ]
  }
 ],
 "metadata": {
  "kernelspec": {
   "display_name": "Python 3",
   "language": "python",
   "name": "python3"
  },
  "language_info": {
   "codemirror_mode": {
    "name": "ipython",
    "version": 3
   },
   "file_extension": ".py",
   "mimetype": "text/x-python",
   "name": "python",
   "nbconvert_exporter": "python",
   "pygments_lexer": "ipython3",
   "version": "3.8.3"
  }
 },
 "nbformat": 4,
 "nbformat_minor": 4
}
